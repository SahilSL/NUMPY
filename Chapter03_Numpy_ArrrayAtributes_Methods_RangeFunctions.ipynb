{
 "cells": [
  {
   "cell_type": "code",
   "execution_count": null,
   "id": "fa45c73e-ea2c-4476-badb-bfc550a5fa07",
   "metadata": {},
   "outputs": [],
   "source": [
    "#Chapter 3 \n",
    "* Array attributes\n",
    "* Array Attributes vs ndarray object attributes\n",
    "* Array Methods\n",
    "* Array Creation in different ways\n",
    "    - Empty\n",
    "    - Zero\n",
    "    - One\n",
    "* Array from existed data\n",
    "    - Asarray\n",
    "    - Frombuffer\n",
    "    - Formite\n",
    "* Array from ranges functions\n",
    "    - Arange\n",
    "    - Linspace\n",
    "    - Logspace"
   ]
  },
  {
   "cell_type": "code",
   "execution_count": null,
   "id": "9fab3a39-488c-4c7c-bb86-16111b6d252d",
   "metadata": {},
   "outputs": [],
   "source": [
    "#Array Attribtes ---->\n",
    "* Shape: Returns the dimensions of the array as a tuple\n",
    "* ndim: Returns the number of dimensions (axes) of the array\n",
    "* size: Returns the total number of elements in the array\n",
    "* dtype: Returns the data type of the elements in the array\n",
    "* itemsize: Returns the size (in bytes) of each element in the array. (Single item size in byte)\n",
    "* data: Returns a buffer object ppinting to the start of the array's data. (return array memory location, not recommended, use another method to access arrays, like loops, indexing, slicing etc.\n",
    "* strides: Returns the tuple of bytes to step  in each dimension when traversing an array. (total bytes, one item size in bytes) e.g (16,4)\n",
    "* flags: Returns an object that contains information about the memory layout, data types, and other properties of the array.\n"
   ]
  },
  {
   "cell_type": "code",
   "execution_count": 3,
   "id": "8e6addb3-684d-44d4-b5a0-702afd71fa35",
   "metadata": {},
   "outputs": [
    {
     "name": "stdout",
     "output_type": "stream",
     "text": [
      "(5,)\n",
      "(2, 3)\n"
     ]
    }
   ],
   "source": [
    "#shape ---->\n",
    "import numpy as np\n",
    "\n",
    "#one-dimensional array\n",
    "arr=np.array([1,3,5,7,9])\n",
    "print(arr.shape)\n",
    "\n",
    "#two-dimensional array\n",
    "arr2=np.array([\n",
    "            [1,3,5],\n",
    "            [7,9,11]])\n",
    "print(arr2.shape)"
   ]
  },
  {
   "cell_type": "code",
   "execution_count": 7,
   "id": "7041bf40-03fb-42f0-b190-e4f218047b52",
   "metadata": {},
   "outputs": [
    {
     "name": "stdout",
     "output_type": "stream",
     "text": [
      "1\n",
      "2\n",
      "3\n"
     ]
    }
   ],
   "source": [
    "#ndim ---->\n",
    "import numpy as np\n",
    "\n",
    "#one-dimensional array\n",
    "arr=np.array([1,3,5,7,9])\n",
    "print(arr.ndim)\n",
    "\n",
    "#two-dimensional array\n",
    "arr2=np.array([\n",
    "            [1,3,5],\n",
    "            [7,9,11]])\n",
    "print(arr2.ndim)\n",
    "\n",
    "#three-dimensional array\n",
    "arr3=np.array([[\n",
    "            [1,3,5],\n",
    "            [7,9,11]\n",
    "            ]])\n",
    "print(arr3.ndim)"
   ]
  },
  {
   "cell_type": "code",
   "execution_count": 8,
   "id": "acb437aa-3cd2-4a41-a1ce-237252be0213",
   "metadata": {},
   "outputs": [
    {
     "name": "stdout",
     "output_type": "stream",
     "text": [
      "5\n",
      "6\n",
      "6\n"
     ]
    }
   ],
   "source": [
    "#size ---->\n",
    "import numpy as np\n",
    "\n",
    "#one-dimensional array\n",
    "arr=np.array([1,3,5,7,9])\n",
    "print(arr.size)\n",
    "\n",
    "#two-dimensional array\n",
    "arr2=np.array([\n",
    "            [1,3,5],\n",
    "            [7,9,11]])\n",
    "print(arr2.size)\n",
    "\n",
    "#three-dimensional array\n",
    "arr3=np.array([[\n",
    "            [1,3,5],\n",
    "            [7,9,11]\n",
    "            ]])\n",
    "print(arr3.size)"
   ]
  },
  {
   "cell_type": "code",
   "execution_count": 9,
   "id": "9bef7181-149d-450b-917e-3b8df4d469f8",
   "metadata": {},
   "outputs": [
    {
     "name": "stdout",
     "output_type": "stream",
     "text": [
      "int32\n",
      "int32\n",
      "int32\n"
     ]
    }
   ],
   "source": [
    "#dtype ---->\n",
    "import numpy as np\n",
    "\n",
    "#one-dimensional array\n",
    "arr=np.array([1,3,5,7,9])\n",
    "print(arr.dtype)\n",
    "\n",
    "#two-dimensional array\n",
    "arr2=np.array([\n",
    "            [1,3,5],\n",
    "            [7,9,11]])\n",
    "print(arr2.dtype)\n",
    "\n",
    "#three-dimensional array\n",
    "arr3=np.array([[\n",
    "            [1,3,5],\n",
    "            [7,9,11]\n",
    "            ]])\n",
    "print(arr3.dtype)"
   ]
  },
  {
   "cell_type": "code",
   "execution_count": 10,
   "id": "baa229cc-1e28-42b2-9a38-a011115174d6",
   "metadata": {},
   "outputs": [
    {
     "name": "stdout",
     "output_type": "stream",
     "text": [
      "<memory at 0x00000221F9FFFF40>\n",
      "<memory at 0x00000221FA100D40>\n",
      "<memory at 0x00000221F9C55E40>\n"
     ]
    }
   ],
   "source": [
    "#data ---->\n",
    "import numpy as np\n",
    "\n",
    "#one-dimensional array\n",
    "arr=np.array([1,3,5,7,9])\n",
    "print(arr.data)\n",
    "\n",
    "#two-dimensional array\n",
    "arr2=np.array([\n",
    "            [1,3,5],\n",
    "            [7,9,11]])\n",
    "print(arr2.data)\n",
    "\n",
    "#three-dimensional array\n",
    "arr3=np.array([[\n",
    "            [1,3,5],\n",
    "            [7,9,11]\n",
    "            ]])\n",
    "print(arr3.data)"
   ]
  },
  {
   "cell_type": "code",
   "execution_count": 11,
   "id": "aae86f66-40da-4155-91ce-8f85926a6986",
   "metadata": {},
   "outputs": [
    {
     "name": "stdout",
     "output_type": "stream",
     "text": [
      "4\n",
      "4\n",
      "4\n"
     ]
    }
   ],
   "source": [
    "#itemsize ---->\n",
    "import numpy as np\n",
    "\n",
    "#one-dimensional array\n",
    "arr=np.array([1,3,5,7,9])\n",
    "print(arr.itemsize)\n",
    "\n",
    "#two-dimensional array\n",
    "arr2=np.array([\n",
    "            [1,3,5],\n",
    "            [7,9,11]])\n",
    "print(arr2.itemsize)\n",
    "\n",
    "#three-dimensional array\n",
    "arr3=np.array([[\n",
    "            [1,3,5],\n",
    "            [7,9,11]\n",
    "            ]])\n",
    "print(arr3.itemsize)"
   ]
  },
  {
   "cell_type": "code",
   "execution_count": 12,
   "id": "5ee917f9-0ac8-4fce-b60c-211fe3ca147b",
   "metadata": {},
   "outputs": [
    {
     "name": "stdout",
     "output_type": "stream",
     "text": [
      "(4,)\n",
      "(12, 4)\n",
      "(24, 12, 4)\n"
     ]
    }
   ],
   "source": [
    "#strides ---->\n",
    "import numpy as np\n",
    "\n",
    "#one-dimensional array\n",
    "arr=np.array([1,3,5,7,9])\n",
    "print(arr.strides)\n",
    "\n",
    "#two-dimensional array\n",
    "arr2=np.array([\n",
    "            [1,3,5],\n",
    "            [7,9,11]])\n",
    "print(arr2.strides)\n",
    "\n",
    "#three-dimensional array\n",
    "arr3=np.array([[\n",
    "            [1,3,5],\n",
    "            [7,9,11]\n",
    "            ]])\n",
    "print(arr3.strides)"
   ]
  },
  {
   "cell_type": "code",
   "execution_count": 13,
   "id": "c546ae49-0d27-41e8-bc62-a8170229df53",
   "metadata": {},
   "outputs": [
    {
     "name": "stdout",
     "output_type": "stream",
     "text": [
      "  C_CONTIGUOUS : True\n",
      "  F_CONTIGUOUS : True\n",
      "  OWNDATA : True\n",
      "  WRITEABLE : True\n",
      "  ALIGNED : True\n",
      "  WRITEBACKIFCOPY : False\n",
      "\n",
      "  C_CONTIGUOUS : True\n",
      "  F_CONTIGUOUS : False\n",
      "  OWNDATA : True\n",
      "  WRITEABLE : True\n",
      "  ALIGNED : True\n",
      "  WRITEBACKIFCOPY : False\n",
      "\n",
      "  C_CONTIGUOUS : True\n",
      "  F_CONTIGUOUS : False\n",
      "  OWNDATA : True\n",
      "  WRITEABLE : True\n",
      "  ALIGNED : True\n",
      "  WRITEBACKIFCOPY : False\n",
      "\n"
     ]
    }
   ],
   "source": [
    "#flags ---->\n",
    "import numpy as np\n",
    "\n",
    "#one-dimensional array\n",
    "arr=np.array([1,3,5,7,9])\n",
    "print(arr.flags)\n",
    "\n",
    "#two-dimensional array\n",
    "arr2=np.array([\n",
    "            [1,3,5],\n",
    "            [7,9,11]])\n",
    "print(arr2.flags)\n",
    "\n",
    "#three-dimensional array\n",
    "arr3=np.array([[\n",
    "            [1,3,5],\n",
    "            [7,9,11]\n",
    "            ]])\n",
    "print(arr3.flags)"
   ]
  },
  {
   "cell_type": "code",
   "execution_count": null,
   "id": "3bef50ac-e33b-4c31-ab67-0f52702656f3",
   "metadata": {},
   "outputs": [],
   "source": [
    "# Array VS ndarray attributes ---->\n",
    "    The main differernce between the array attributes and array ndarray object attribute is tht array attributes are realted to the entire array, while nd array objects attributes are related to a specific instance of an ndarray objected."
   ]
  },
  {
   "cell_type": "code",
   "execution_count": null,
   "id": "5885282b-2564-4f3f-a7d2-f323c350545b",
   "metadata": {},
   "outputs": [],
   "source": [
    "# Array Methods ---->"
   ]
  }
 ],
 "metadata": {
  "kernelspec": {
   "display_name": "Python 3 (ipykernel)",
   "language": "python",
   "name": "python3"
  },
  "language_info": {
   "codemirror_mode": {
    "name": "ipython",
    "version": 3
   },
   "file_extension": ".py",
   "mimetype": "text/x-python",
   "name": "python",
   "nbconvert_exporter": "python",
   "pygments_lexer": "ipython3",
   "version": "3.12.4"
  }
 },
 "nbformat": 4,
 "nbformat_minor": 5
}
