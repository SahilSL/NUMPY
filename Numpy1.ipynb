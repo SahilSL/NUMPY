{
 "cells": [
  {
   "cell_type": "markdown",
   "id": "48ce99a4-221d-405c-a06a-21da00749325",
   "metadata": {},
   "source": [
    "NumPy"
   ]
  },
  {
   "cell_type": "code",
   "execution_count": null,
   "id": "c6cb62f2-8fd2-492b-b23a-e697cc5d9fb2",
   "metadata": {},
   "outputs": [],
   "source": [
    "# Numpy is the fundamental package for scientific computing in python\n",
    "#It is a Python library that provides a multidimensional array object, various dervied ojects"
   ]
  },
  {
   "cell_type": "code",
   "execution_count": null,
   "id": "dc44aa0d-3174-4c53-8746-c3331caad768",
   "metadata": {},
   "outputs": [],
   "source": [
    "# Numpy Array is a grid of values and it cintains information about the raw data, how to locate  an element, and how to interpret an element"
   ]
  },
  {
   "cell_type": "code",
   "execution_count": 20,
   "id": "f713a7b5-6d1c-4e56-88a8-b3013723c439",
   "metadata": {},
   "outputs": [
    {
     "data": {
      "text/plain": [
       "'\\nNumpy Vs Python list ---->\\nAdvantages--->\\n- Consume less memory\\n- fast as compared to Python list\\n- convenient to use\\n'"
      ]
     },
     "execution_count": 20,
     "metadata": {},
     "output_type": "execute_result"
    }
   ],
   "source": [
    "'''\n",
    "Numpy Vs Python list ---->\n",
    "Advantages--->\n",
    "- Consume less memory\n",
    "- fast as compared to Python list\n",
    "- convenient to use\n",
    "'''"
   ]
  },
  {
   "cell_type": "code",
   "execution_count": null,
   "id": "c899fd76-4157-44f3-b96e-85e0a13f0126",
   "metadata": {},
   "outputs": [],
   "source": [
    "# Installation: pip install numpy\n",
    "# import NumPy: import numpy as np"
   ]
  },
  {
   "cell_type": "code",
   "execution_count": 6,
   "id": "db1a745b-edb8-4b03-a1c5-a8769f0690ca",
   "metadata": {},
   "outputs": [
    {
     "name": "stdout",
     "output_type": "stream",
     "text": [
      "Requirement already satisfied: numpy in c:\\programdata\\anaconda3\\lib\\site-packages (1.26.4)\n",
      "Note: you may need to restart the kernel to use updated packages.\n"
     ]
    }
   ],
   "source": [
    "pip install numpy"
   ]
  },
  {
   "cell_type": "code",
   "execution_count": 14,
   "id": "561dd0eb-0a25-47bd-b0a6-2263023ae134",
   "metadata": {},
   "outputs": [
    {
     "name": "stdout",
     "output_type": "stream",
     "text": [
      "[1 2 3 4 5]\n",
      "<class 'numpy.ndarray'>\n"
     ]
    }
   ],
   "source": [
    "import numpy as np\n",
    "#array\n",
    "x=np.array([1,2,3,4,5])\n",
    "print(x)\n",
    "print(type(x))"
   ]
  },
  {
   "cell_type": "code",
   "execution_count": 16,
   "id": "0be475a8-ca70-4356-8362-cfe27410e71c",
   "metadata": {},
   "outputs": [
    {
     "name": "stdout",
     "output_type": "stream",
     "text": [
      "[1, 2, 3, 4, 5]\n",
      "<class 'list'>\n"
     ]
    }
   ],
   "source": [
    "#List\n",
    "y=[1,2,3,4,5]\n",
    "print(y)\n",
    "print(type(y))"
   ]
  },
  {
   "cell_type": "code",
   "execution_count": 18,
   "id": "6579fed8-24f9-4ee1-838a-8c73e2922a20",
   "metadata": {},
   "outputs": [
    {
     "name": "stdout",
     "output_type": "stream",
     "text": [
      "812 ns ± 9.17 ns per loop (mean ± std. dev. of 7 runs, 1,000,000 loops each)\n",
      "2.69 μs ± 95.5 ns per loop (mean ± std. dev. of 7 runs, 100,000 loops each)\n"
     ]
    }
   ],
   "source": [
    "#processing time--->\n",
    "%timeit [j**4 for j in range(1,9)]\n",
    "%timeit np.arange(1,9)**4"
   ]
  },
  {
   "cell_type": "code",
   "execution_count": 22,
   "id": "5191dd4c-287a-4806-8b5d-c28412065dc9",
   "metadata": {},
   "outputs": [
    {
     "name": "stdin",
     "output_type": "stream",
     "text": [
      "Enter Number:  9\n",
      "Enter Number:  8\n",
      "Enter Number:  7\n",
      "Enter Number:  6\n"
     ]
    },
    {
     "name": "stdout",
     "output_type": "stream",
     "text": [
      "[9 8 7 6]\n"
     ]
    }
   ],
   "source": [
    "l=[]\n",
    "for i in range(1,5):\n",
    "    int_l=int(input(\"Enter Number: \"))\n",
    "    l.append(int_l)\n",
    "print(np.array(l))"
   ]
  },
  {
   "cell_type": "code",
   "execution_count": null,
   "id": "dd322d1c-1732-4749-bb6b-6018b47c4157",
   "metadata": {},
   "outputs": [],
   "source": [
    "'''\n",
    "Dimensions in Array---->\n",
    "- 1D Array\n",
    "- 2D Array\n",
    "- 3D Array\n",
    "- Higher Dimension Array\n",
    "'''"
   ]
  },
  {
   "cell_type": "code",
   "execution_count": 28,
   "id": "a26a5519-09de-4125-a3d1-83071563e26d",
   "metadata": {},
   "outputs": [
    {
     "name": "stdout",
     "output_type": "stream",
     "text": [
      "[1 2 3 4 5]\n",
      "1\n",
      "[[ 1  2  3  4  5]\n",
      " [ 6  7  8  9 10]]\n",
      "2\n",
      "[[[ 1  2  3  4  5]\n",
      "  [ 6  7  8  9 10]\n",
      "  [11 12 13 14 15]]]\n",
      "3\n"
     ]
    }
   ],
   "source": [
    "ar1=np.array([1,2,3,4,5])\n",
    "print(ar1)\n",
    "print(ar1.ndim)\n",
    "\n",
    "ar2=np.array([[1,2,3,4,5],[6,7,8,9,10]])\n",
    "print(ar2)\n",
    "print(ar2.ndim)\n",
    "\n",
    "ar3=np.array([[[1,2,3,4,5],[6,7,8,9,10],[11,12,13,14,15]]])\n",
    "print(ar3)\n",
    "print(ar3.ndim)"
   ]
  },
  {
   "cell_type": "code",
   "execution_count": 32,
   "id": "0e7d3ecf-6dad-41fa-a4cb-c6b25df487e9",
   "metadata": {},
   "outputs": [
    {
     "name": "stdout",
     "output_type": "stream",
     "text": [
      "[[[[[[[[[[1 2 3 4 5]]]]]]]]]]\n",
      "10\n"
     ]
    }
   ],
   "source": [
    "ar1=np.array([1,2,3,4,5], ndmin=10)\n",
    "print(ar1)\n",
    "print(ar1.ndim)"
   ]
  },
  {
   "cell_type": "code",
   "execution_count": 34,
   "id": "fd67df60-ab0a-4947-80f8-3fccb800b4ab",
   "metadata": {},
   "outputs": [
    {
     "name": "stdout",
     "output_type": "stream",
     "text": [
      "[0. 0. 0. 0. 0. 0. 0. 0. 0. 0.]\n"
     ]
    }
   ],
   "source": [
    "#Array filled with 0's\n",
    "\n",
    "import numpy as np\n",
    "ar_zeros=np.zeros(10)\n",
    "print(ar_zeros)"
   ]
  },
  {
   "cell_type": "code",
   "execution_count": 38,
   "id": "df62c23b-26b8-4ef8-8aff-861e34aa85eb",
   "metadata": {},
   "outputs": [
    {
     "name": "stdout",
     "output_type": "stream",
     "text": [
      "[[0. 0. 0. 0.]\n",
      " [0. 0. 0. 0.]\n",
      " [0. 0. 0. 0.]]\n"
     ]
    }
   ],
   "source": [
    "import numpy as np\n",
    "ar_zeros=np.zeros((3,4))\n",
    "print(ar_zeros)"
   ]
  },
  {
   "cell_type": "code",
   "execution_count": 44,
   "id": "c3246947-c8f4-432c-8d8c-9874ca6838b4",
   "metadata": {},
   "outputs": [
    {
     "name": "stdout",
     "output_type": "stream",
     "text": [
      "[1. 1. 1. 1. 1. 1. 1. 1. 1. 1.]\n"
     ]
    }
   ],
   "source": [
    "#Array filled with 1's\n",
    "import numpy as np\n",
    "ones=np.ones(10)\n",
    "print(ones)"
   ]
  },
  {
   "cell_type": "code",
   "execution_count": 46,
   "id": "14b642cd-7741-44b9-9f42-3aec08080d29",
   "metadata": {},
   "outputs": [
    {
     "name": "stdout",
     "output_type": "stream",
     "text": [
      "[[1. 1. 1. 1.]\n",
      " [1. 1. 1. 1.]\n",
      " [1. 1. 1. 1.]]\n"
     ]
    }
   ],
   "source": [
    "import numpy as np\n",
    "ones=np.ones((3,4))\n",
    "print(ones)"
   ]
  },
  {
   "cell_type": "code",
   "execution_count": 48,
   "id": "46915d6a-6ed0-4892-a1b6-1841cf0d91e3",
   "metadata": {},
   "outputs": [
    {
     "name": "stdout",
     "output_type": "stream",
     "text": [
      "[3.39519327e-313 5.43230923e-312 2.75010655e-311 8.69169476e-311]\n"
     ]
    }
   ],
   "source": [
    "#Empty\n",
    "ar_em=np.empty(4)\n",
    "print(ar_em)"
   ]
  },
  {
   "cell_type": "code",
   "execution_count": 50,
   "id": "ed3d830c-3622-4bdc-83b2-10b712141b17",
   "metadata": {},
   "outputs": [
    {
     "name": "stdout",
     "output_type": "stream",
     "text": [
      "[0 1 2 3]\n"
     ]
    }
   ],
   "source": [
    "#Range\n",
    "ar_rn=np.arange(4)\n",
    "print(ar_rn)"
   ]
  },
  {
   "cell_type": "code",
   "execution_count": 54,
   "id": "eccf7557-5ca0-45e7-8971-5bf695f1a6e2",
   "metadata": {},
   "outputs": [
    {
     "name": "stdout",
     "output_type": "stream",
     "text": [
      "[100 105 110 115 120 125 130 135 140 145 150 155 160 165 170 175 180 185\n",
      " 190 195]\n"
     ]
    }
   ],
   "source": [
    "#Range\n",
    "ar_rn=np.arange(100,200,5)\n",
    "print(ar_rn)"
   ]
  },
  {
   "cell_type": "raw",
   "id": "57e1ddb4-aa4b-43ac-b4d8-ca0850293457",
   "metadata": {},
   "source": []
  },
  {
   "cell_type": "code",
   "execution_count": 64,
   "id": "6d9e1d5b-b700-4f1e-8027-505592aa4b15",
   "metadata": {},
   "outputs": [
    {
     "name": "stdout",
     "output_type": "stream",
     "text": [
      "[[1. 0. 0.]\n",
      " [0. 1. 0.]\n",
      " [0. 0. 1.]]\n"
     ]
    }
   ],
   "source": [
    "#Diagonal element filled with 1's\n",
    "ar_dia=np.eye(3)\n",
    "print(ar_dia)"
   ]
  },
  {
   "cell_type": "code",
   "execution_count": 58,
   "id": "fbf1cd95-6124-4609-85cb-45747beba206",
   "metadata": {},
   "outputs": [
    {
     "name": "stdout",
     "output_type": "stream",
     "text": [
      "[[1. 0.]\n",
      " [0. 1.]]\n"
     ]
    }
   ],
   "source": [
    "#Diagonal\n",
    "ar_dia=np.eye(2)\n",
    "print(ar_dia)"
   ]
  },
  {
   "cell_type": "code",
   "execution_count": 60,
   "id": "1ca762f2-60fd-4c09-be61-f5a0f12211c5",
   "metadata": {},
   "outputs": [
    {
     "name": "stdout",
     "output_type": "stream",
     "text": [
      "[[1. 0. 0. 0. 0. 0. 0. 0. 0.]\n",
      " [0. 1. 0. 0. 0. 0. 0. 0. 0.]\n",
      " [0. 0. 1. 0. 0. 0. 0. 0. 0.]\n",
      " [0. 0. 0. 1. 0. 0. 0. 0. 0.]\n",
      " [0. 0. 0. 0. 1. 0. 0. 0. 0.]\n",
      " [0. 0. 0. 0. 0. 1. 0. 0. 0.]\n",
      " [0. 0. 0. 0. 0. 0. 1. 0. 0.]\n",
      " [0. 0. 0. 0. 0. 0. 0. 1. 0.]\n",
      " [0. 0. 0. 0. 0. 0. 0. 0. 1.]]\n"
     ]
    }
   ],
   "source": [
    "#Diagonal\n",
    "ar_dia=np.eye(9)\n",
    "print(ar_dia)"
   ]
  },
  {
   "cell_type": "code",
   "execution_count": 62,
   "id": "7aa40317-7f5b-49c5-ba49-148f4a249d26",
   "metadata": {},
   "outputs": [
    {
     "name": "stdout",
     "output_type": "stream",
     "text": [
      "[[1. 0. 0. 0. 0.]\n",
      " [0. 1. 0. 0. 0.]\n",
      " [0. 0. 1. 0. 0.]\n",
      " [0. 0. 0. 1. 0.]]\n"
     ]
    }
   ],
   "source": [
    "#Diagonal\n",
    "ar_dia=np.eye(4,5)\n",
    "print(ar_dia)"
   ]
  },
  {
   "cell_type": "code",
   "execution_count": 76,
   "id": "2cce9764-52a6-405f-98d6-a936ba96424b",
   "metadata": {},
   "outputs": [
    {
     "name": "stdout",
     "output_type": "stream",
     "text": [
      "[ 1.    3.25  5.5   7.75 10.  ]\n"
     ]
    }
   ],
   "source": [
    "#linspace- we get a continuous number\n",
    "ar_lin=np.linspace(1,10,num=5) #number between 1 to 10\n",
    "print(ar_lin)"
   ]
  },
  {
   "cell_type": "code",
   "execution_count": 72,
   "id": "ff442052-63af-4108-98f3-6396874f4bd9",
   "metadata": {},
   "outputs": [
    {
     "name": "stdout",
     "output_type": "stream",
     "text": [
      "[1. 2. 3. 4. 5.]\n"
     ]
    }
   ],
   "source": [
    "#linspace\n",
    "ar_lin=np.linspace(1,5,num=5)\n",
    "print(ar_lin)"
   ]
  },
  {
   "cell_type": "code",
   "execution_count": 74,
   "id": "19e6bbc6-b164-4d8c-be4d-af173b2eaed6",
   "metadata": {},
   "outputs": [
    {
     "name": "stdout",
     "output_type": "stream",
     "text": [
      "[ 1. 10.]\n"
     ]
    }
   ],
   "source": [
    "#linspace\n",
    "ar_lin=np.linspace(1,10,num=2)\n",
    "print(ar_lin)"
   ]
  },
  {
   "cell_type": "code",
   "execution_count": null,
   "id": "aabda321-a7d6-4716-ab2f-084c662e4f17",
   "metadata": {},
   "outputs": [],
   "source": []
  },
  {
   "cell_type": "code",
   "execution_count": null,
   "id": "d80ac0c2-3c5b-4540-b634-ab55323c058b",
   "metadata": {},
   "outputs": [],
   "source": [
    "''' \n",
    "Create Numpy array with \n",
    "rand(): The function is used to generate a random value between 0 to 1.\n",
    "randn(): the function is used to generate a random value close to zero. This may return positive or negative numbers as well.\n",
    "ranf(): the function for doing random sampling in numpy. it returns an array of specified shape and fills it with random float in the half-open interval [0.0,1.0], excluding 1\n",
    "randint(): The function is used to generate a random number between a given range\n",
    "'''"
   ]
  },
  {
   "cell_type": "code",
   "execution_count": 78,
   "id": "cb24856c-03ea-4df7-a1ba-864c22b4a69c",
   "metadata": {},
   "outputs": [
    {
     "name": "stdout",
     "output_type": "stream",
     "text": [
      "[0.90866863 0.17435913 0.12044839 0.91771745 0.37476687 0.44451416\n",
      " 0.03977144 0.75192096 0.50041564 0.50373934]\n"
     ]
    }
   ],
   "source": [
    "#rand()\n",
    "import numpy as np\n",
    "var=np.random.rand(10)\n",
    "print(var)"
   ]
  },
  {
   "cell_type": "code",
   "execution_count": 80,
   "id": "12adbb44-cfc9-4fc1-9596-415b17e85c03",
   "metadata": {},
   "outputs": [
    {
     "name": "stdout",
     "output_type": "stream",
     "text": [
      "[[0.90420683 0.64347115 0.36241122 0.0647352  0.44806449]\n",
      " [0.74106789 0.34855368 0.31580604 0.0447355  0.59991799]]\n"
     ]
    }
   ],
   "source": [
    "var1=np.random.rand(2,5)\n",
    "print(var1)"
   ]
  },
  {
   "cell_type": "code",
   "execution_count": 84,
   "id": "41e9ab29-de2f-4b94-9ad0-13ee60a85a6b",
   "metadata": {},
   "outputs": [
    {
     "name": "stdout",
     "output_type": "stream",
     "text": [
      "[-0.41961974  1.34180283  0.34611137 -0.15948905  0.8095683  -0.07961222\n",
      "  1.12785121 -0.13608666  1.11509236 -0.47418062]\n"
     ]
    }
   ],
   "source": [
    "#randn()\n",
    "import numpy as np\n",
    "var=np.random.randn(10)\n",
    "print(var)"
   ]
  },
  {
   "cell_type": "code",
   "execution_count": 86,
   "id": "5119c8fb-1af3-4fcd-b753-9feea1ca98c5",
   "metadata": {},
   "outputs": [
    {
     "name": "stdout",
     "output_type": "stream",
     "text": [
      "[0.22491639 0.2463363  0.05682295 0.56508565 0.74704766 0.58923732\n",
      " 0.42947275 0.43973058 0.07777312 0.50384515]\n"
     ]
    }
   ],
   "source": [
    "#ranf()\n",
    "var=np.random.ranf(10)\n",
    "print(var)"
   ]
  },
  {
   "cell_type": "code",
   "execution_count": 94,
   "id": "5e7b0eb8-8f0f-4d7d-8be3-56542b3240ab",
   "metadata": {},
   "outputs": [
    {
     "name": "stdout",
     "output_type": "stream",
     "text": [
      "[5 9 6 5 9]\n"
     ]
    }
   ],
   "source": [
    "#randint()\n",
    "var=np.random.randint(5,10,5)\n",
    "print(var)"
   ]
  },
  {
   "cell_type": "code",
   "execution_count": null,
   "id": "95a6d377-4ad3-4215-9f15-ba17d83da20e",
   "metadata": {},
   "outputs": [],
   "source": []
  },
  {
   "cell_type": "code",
   "execution_count": null,
   "id": "a5223c3a-ffbc-4fc5-8d39-0df0cc0c1cca",
   "metadata": {},
   "outputs": [],
   "source": [
    "#Datatype in Numpy\n",
    "- bool_\n",
    "- int_\n",
    "- intc\n",
    "- intp\n",
    "- int8\n",
    "- int16\n",
    "- int32\n",
    "- int64\n",
    "- uint8\n",
    "- uint16\n",
    "- uint32\n",
    "- uint64\n",
    "- float_\n",
    "- float32\n",
    "- float64\n",
    "- complex_\n",
    "- complex64\n",
    "- complex128  "
   ]
  },
  {
   "cell_type": "code",
   "execution_count": 96,
   "id": "25b90f2f-7f84-444c-addf-28cc394dd287",
   "metadata": {},
   "outputs": [
    {
     "name": "stdout",
     "output_type": "stream",
     "text": [
      "Data Type:  int32\n"
     ]
    }
   ],
   "source": [
    "import numpy as np\n",
    "var = np.array([1,2,3,4])\n",
    "print(\"Data Type: \", var.dtype)"
   ]
  },
  {
   "cell_type": "code",
   "execution_count": 98,
   "id": "4910ee23-5293-4978-beba-ed1276d531ce",
   "metadata": {},
   "outputs": [
    {
     "name": "stdout",
     "output_type": "stream",
     "text": [
      "Data Type:  float64\n"
     ]
    }
   ],
   "source": [
    "import numpy as np\n",
    "var = np.array([1.2,2,3,4])\n",
    "print(\"Data Type: \", var.dtype)"
   ]
  },
  {
   "cell_type": "code",
   "execution_count": 100,
   "id": "31ecdf82-866a-4d6f-b6fc-479dff84fcba",
   "metadata": {},
   "outputs": [
    {
     "name": "stdout",
     "output_type": "stream",
     "text": [
      "Data Type:  <U1\n"
     ]
    }
   ],
   "source": [
    "import numpy as np\n",
    "var = np.array([\"S\",\"A\",\"H\",\"I\",\"L\"])\n",
    "print(\"Data Type: \", var.dtype)"
   ]
  },
  {
   "cell_type": "code",
   "execution_count": 102,
   "id": "dadf127b-9b64-4305-baba-fcf3fe5e845a",
   "metadata": {},
   "outputs": [
    {
     "name": "stdout",
     "output_type": "stream",
     "text": [
      "Data Type:  <U11\n"
     ]
    }
   ],
   "source": [
    "import numpy as np\n",
    "var = np.array([\"S\",\"A\",\"H\",\"I\",1,58])\n",
    "print(\"Data Type: \", var.dtype)"
   ]
  },
  {
   "cell_type": "code",
   "execution_count": null,
   "id": "8a79f072-2cc4-473a-9afe-2789703bdd17",
   "metadata": {},
   "outputs": [],
   "source": [
    "#list of character that are used to represent dtype in Numpy:\n",
    "i - integer\n",
    "b - boolean\n",
    "u - unsigned interger\n",
    "f - float\n",
    "c - complex float\n",
    "m - timedelta\n",
    "M - datetime\n",
    "O - object\n",
    "S - string\n",
    "U - unicode string\n",
    "V - the fixed chunk of memory for other types (void)"
   ]
  },
  {
   "cell_type": "code",
   "execution_count": 108,
   "id": "c4dac742-b5f8-4dca-9c86-c853558294a1",
   "metadata": {},
   "outputs": [
    {
     "name": "stdout",
     "output_type": "stream",
     "text": [
      "DataType: int8\n"
     ]
    }
   ],
   "source": [
    "x= np.array([1,2,3,4], dtype=np.int8)\n",
    "print(\"DataType:\", x.dtype)"
   ]
  },
  {
   "cell_type": "code",
   "execution_count": 110,
   "id": "3b787d6a-8020-404d-bfec-8a00b2836705",
   "metadata": {},
   "outputs": [
    {
     "name": "stdout",
     "output_type": "stream",
     "text": [
      "DataType: float32\n"
     ]
    }
   ],
   "source": [
    "x= np.array([1,2,3,4], dtype=\"f\")\n",
    "print(\"DataType:\", x.dtype)"
   ]
  },
  {
   "cell_type": "code",
   "execution_count": null,
   "id": "a3c7e0ec-caad-4b45-a4c8-491f036f2020",
   "metadata": {},
   "outputs": [],
   "source": [
    "#Arithmetic Operations---->\n",
    "np.add(a,b) OR a+b\n",
    "np.subtract(a,b) OR a-b\n",
    "np.multiply(a,b) OR a*b\n",
    "np.divide(a,b) OR a/b\n",
    "np.mod(a,b) OR a%b\n",
    "np.power(a,b) OR a**b\n",
    "np.reciprocal(a) OR 1*a"
   ]
  },
  {
   "cell_type": "code",
   "execution_count": 112,
   "id": "d4b04faa-4255-40b9-98c4-ab6a2a0652d5",
   "metadata": {},
   "outputs": [
    {
     "name": "stdout",
     "output_type": "stream",
     "text": [
      "[4 5 6 7 8 9]\n"
     ]
    }
   ],
   "source": [
    "import numpy as np\n",
    "var=np.array([1,2,3,4,5,6])\n",
    "varadd=var+3\n",
    "print(varadd)"
   ]
  },
  {
   "cell_type": "code",
   "execution_count": 114,
   "id": "c6d63897-a763-45f0-a794-eea24e2426aa",
   "metadata": {},
   "outputs": [
    {
     "name": "stdout",
     "output_type": "stream",
     "text": [
      "[ 2  4  6  8 10 12]\n"
     ]
    }
   ],
   "source": [
    "import numpy as np\n",
    "var=np.array([1,2,3,4,5,6])\n",
    "varr=np.array([1,2,3,4,5,6])\n",
    "varadd=var+varr\n",
    "print(varadd)"
   ]
  },
  {
   "cell_type": "code",
   "execution_count": 116,
   "id": "69e9bf05-7bd5-460c-abd2-6bdb82edec35",
   "metadata": {},
   "outputs": [
    {
     "name": "stdout",
     "output_type": "stream",
     "text": [
      "[-2 -1  0  1  2  3]\n"
     ]
    }
   ],
   "source": [
    "import numpy as np\n",
    "var=np.array([1,2,3,4,5,6])\n",
    "varadd=var-3\n",
    "print(varadd)"
   ]
  },
  {
   "cell_type": "code",
   "execution_count": 120,
   "id": "2da32d30-3ea3-4a6f-9548-e8ca124143ac",
   "metadata": {},
   "outputs": [
    {
     "name": "stdout",
     "output_type": "stream",
     "text": [
      "[0 0 0 0 0 5]\n"
     ]
    }
   ],
   "source": [
    "import numpy as np\n",
    "var=np.array([1,2,3,4,5,6])\n",
    "varr=np.array([1,2,3,4,5,1])\n",
    "varadd=var-varr\n",
    "print(varadd)"
   ]
  },
  {
   "cell_type": "code",
   "execution_count": 122,
   "id": "c07fa010-d686-4316-8427-526fd373fc16",
   "metadata": {},
   "outputs": [
    {
     "name": "stdout",
     "output_type": "stream",
     "text": [
      "[0.33333333 0.66666667 1.         1.33333333 1.66666667 2.        ]\n"
     ]
    }
   ],
   "source": [
    "import numpy as np\n",
    "var=np.array([1,2,3,4,5,6])\n",
    "varadd=var/3\n",
    "print(varadd)"
   ]
  },
  {
   "cell_type": "code",
   "execution_count": 124,
   "id": "1a2f4c65-c5d1-43c9-9ed3-d4f0053f4213",
   "metadata": {},
   "outputs": [
    {
     "name": "stdout",
     "output_type": "stream",
     "text": [
      "[1 2 0 1 2 0]\n"
     ]
    }
   ],
   "source": [
    "import numpy as np\n",
    "var=np.array([1,2,3,4,5,6])\n",
    "varadd=var%3\n",
    "print(varadd)"
   ]
  },
  {
   "cell_type": "code",
   "execution_count": 128,
   "id": "f2d3ade9-de00-479a-b0a1-6c74426af237",
   "metadata": {},
   "outputs": [
    {
     "name": "stdout",
     "output_type": "stream",
     "text": [
      "[[2 4 6 8]\n",
      " [2 4 6 8]]\n"
     ]
    }
   ],
   "source": [
    "import numpy as np\n",
    "var=np.array([[1,2,3,4],[1,2,3,4]])\n",
    "varr=np.array([[1,2,3,4],[1,2,3,4]])\n",
    "varadd=var+varr\n",
    "print(varadd)"
   ]
  },
  {
   "cell_type": "code",
   "execution_count": 130,
   "id": "83517d94-7e90-4269-8ddf-ee83def838dd",
   "metadata": {},
   "outputs": [
    {
     "ename": "SyntaxError",
     "evalue": "invalid syntax (1613942812.py, line 2)",
     "output_type": "error",
     "traceback": [
      "\u001b[1;36m  Cell \u001b[1;32mIn[130], line 2\u001b[1;36m\u001b[0m\n\u001b[1;33m    np.\u001b[0m\n\u001b[1;37m       ^\u001b[0m\n\u001b[1;31mSyntaxError\u001b[0m\u001b[1;31m:\u001b[0m invalid syntax\n"
     ]
    }
   ],
   "source": [
    "# Arithmetic Functions ---->\n",
    "np.min(x)\n",
    "np.max(x) \n",
    "np.argmin(x) #return index\n",
    "np.argmax(x)\n",
    "np.sqrt(x)\n",
    "np.sin(x)\n",
    "np.cos(x)\n",
    "np.cumsum(x)"
   ]
  },
  {
   "cell_type": "code",
   "execution_count": 140,
   "id": "aecde555-539f-4021-931a-0f43642d96c9",
   "metadata": {},
   "outputs": [
    {
     "name": "stdout",
     "output_type": "stream",
     "text": [
      "1\n",
      "6\n",
      "1 0\n",
      "6 5\n",
      "[1.         1.41421356 1.73205081 2.         2.23606798 2.44948974]\n"
     ]
    }
   ],
   "source": [
    "import numpy as np\n",
    "var=np.array([1,2,3,4,5,6])\n",
    "print(np.min(var))\n",
    "print(np.max(var))\n",
    "print(np.min(var), np.argmin(var))\n",
    "print(np.max(var), np.argmax(var))\n",
    "print(np.sqrt(var))"
   ]
  },
  {
   "cell_type": "code",
   "execution_count": 138,
   "id": "aebe6b41-b0d4-4f50-9499-bff8137323cd",
   "metadata": {},
   "outputs": [
    {
     "name": "stdout",
     "output_type": "stream",
     "text": [
      "1 1\n",
      "9 3\n"
     ]
    }
   ],
   "source": [
    "import numpy as np\n",
    "var=np.array([[2,1,3],[9,5,6]])\n",
    "print(np.min(var), np.argmin(var))\n",
    "print(np.max(var), np.argmax(var))"
   ]
  },
  {
   "cell_type": "code",
   "execution_count": 144,
   "id": "e0a0a91f-19ef-406c-a4d4-2db5573b90e6",
   "metadata": {},
   "outputs": [
    {
     "name": "stdout",
     "output_type": "stream",
     "text": [
      "[ 0.84147098  0.90929743  0.14112001 -0.7568025  -0.95892427 -0.2794155 ]\n",
      "[ 0.54030231 -0.41614684 -0.9899925  -0.65364362  0.28366219  0.96017029]\n",
      "[ 1  3  6 10 15 21]\n"
     ]
    }
   ],
   "source": [
    "import numpy as np\n",
    "var=np.array([1,2,3,4,5,6])\n",
    "print(np.sin(var))\n",
    "print(np.cos(var))\n",
    "print(np.cumsum(var))\n"
   ]
  },
  {
   "cell_type": "code",
   "execution_count": 7,
   "id": "65f42719-528e-4b2c-b316-7eec080c1e83",
   "metadata": {},
   "outputs": [
    {
     "name": "stdout",
     "output_type": "stream",
     "text": [
      "[[1 2]\n",
      " [2 3]]\n",
      "Shape:  (2, 2)\n"
     ]
    }
   ],
   "source": [
    "#Shape ---->\n",
    "import numpy as np\n",
    "var=np.array([[1,2],[2,3]])\n",
    "print(var)\n",
    "print(\"Shape: \", var.shape)"
   ]
  },
  {
   "cell_type": "code",
   "execution_count": 11,
   "id": "476b8ff9-238a-4f48-b30a-6bc630f7276b",
   "metadata": {},
   "outputs": [
    {
     "name": "stdout",
     "output_type": "stream",
     "text": [
      "[[1 2]\n",
      " [3 4]\n",
      " [5 6]]\n",
      "(3, 2)\n"
     ]
    }
   ],
   "source": [
    "#Reshape---->\n",
    "import numpy as np\n",
    "var=np.array([1,2,3,4,5,6])\n",
    "x=var.reshape(3,2) #(row,coln)\n",
    "print(x)\n",
    "print(x.shape)"
   ]
  },
  {
   "cell_type": "code",
   "execution_count": 17,
   "id": "8cd9b219-e035-4d11-a877-64e7ba7af6da",
   "metadata": {},
   "outputs": [
    {
     "name": "stdout",
     "output_type": "stream",
     "text": [
      "Object `???` not found.\n"
     ]
    }
   ],
   "source": [
    "#broadcasting--->\n",
    "?????"
   ]
  },
  {
   "cell_type": "code",
   "execution_count": 25,
   "id": "4045f59c-68e3-4026-b553-7eedcc300034",
   "metadata": {},
   "outputs": [
    {
     "name": "stdout",
     "output_type": "stream",
     "text": [
      "9\n",
      "5\n",
      "8\n",
      "7\n",
      "7\n",
      "8\n",
      "5\n",
      "9\n"
     ]
    }
   ],
   "source": [
    "#indexing-->\n",
    "import numpy as np\n",
    "var=np.array([9,5,8,7])\n",
    "print(var[0])\n",
    "print(var[1])\n",
    "print(var[2])\n",
    "print(var[3])\n",
    "print(var[-1])\n",
    "print(var[-2])\n",
    "print(var[-3])\n",
    "print(var[-4])"
   ]
  },
  {
   "cell_type": "code",
   "execution_count": 35,
   "id": "53fc9f03-1bea-4d5d-84d7-08337ff16728",
   "metadata": {},
   "outputs": [
    {
     "name": "stdout",
     "output_type": "stream",
     "text": [
      "2\n",
      "9\n",
      "8\n",
      "7\n",
      "4\n",
      "5\n",
      "6\n"
     ]
    }
   ],
   "source": [
    "import numpy as np\n",
    "var=np.array([[9,8,7],[4,5,6]])\n",
    "print(var.ndim)\n",
    "print(var[0,0])\n",
    "print(var[0,1])\n",
    "print(var[0,2])\n",
    "print(var[1,0])\n",
    "print(var[1,1])\n",
    "print(var[1,2])"
   ]
  },
  {
   "cell_type": "code",
   "execution_count": 39,
   "id": "b4da299f-79d8-4ec2-b411-1712f6ab99e5",
   "metadata": {},
   "outputs": [
    {
     "name": "stdout",
     "output_type": "stream",
     "text": [
      "3\n",
      "8\n"
     ]
    }
   ],
   "source": [
    "import numpy as np\n",
    "var=np.array([[[9,8,7],[4,5,6],[5,3,1]]])\n",
    "print(var.ndim)\n",
    "print(var[0,0,1])\n"
   ]
  },
  {
   "cell_type": "code",
   "execution_count": 45,
   "id": "064e88d6-fca6-498b-92e2-018b8b539e3c",
   "metadata": {},
   "outputs": [
    {
     "name": "stdout",
     "output_type": "stream",
     "text": [
      "[9 5]\n",
      "[9 8 6]\n"
     ]
    }
   ],
   "source": [
    "#slicing---> [start:step:step]\n",
    "import numpy as np\n",
    "var=np.array([9,5,8,7,6])\n",
    "print(var[0:2])\n",
    "print(var[::2])"
   ]
  },
  {
   "cell_type": "code",
   "execution_count": 51,
   "id": "c160970d-1586-4158-af0c-6ab744c93840",
   "metadata": {
    "scrolled": true
   },
   "outputs": [
    {
     "name": "stdout",
     "output_type": "stream",
     "text": [
      "[[ 1  2  3  4  5]\n",
      " [ 9  8  7  6  5]\n",
      " [11 12 13 14 15]]\n",
      "2\n",
      "8 to 5 [8 7 6 5]\n",
      "[12 13 14 15]\n"
     ]
    }
   ],
   "source": [
    "import numpy as np\n",
    "var1=np.array([[1,2,3,4,5],[9,8,7,6,5],[11,12,13,14,15]])\n",
    "print(var1)\n",
    "print(var1.ndim)\n",
    "print(\"8 to 5\", var1[1,1:])\n",
    "print( var1[2,1:])"
   ]
  },
  {
   "cell_type": "code",
   "execution_count": 53,
   "id": "87ee3914-1ba3-490b-8790-88fb90f81392",
   "metadata": {},
   "outputs": [
    {
     "name": "stdout",
     "output_type": "stream",
     "text": [
      "9\n",
      "5\n",
      "8\n",
      "7\n",
      "6\n"
     ]
    }
   ],
   "source": [
    "#iterating--->\n",
    "import numpy as np\n",
    "var=np.array([9,5,8,7,6])\n",
    "for i in var:\n",
    "    print(i)"
   ]
  },
  {
   "cell_type": "code",
   "execution_count": 55,
   "id": "31828036-7db9-4afd-90d2-042e8d8c4842",
   "metadata": {},
   "outputs": [
    {
     "name": "stdout",
     "output_type": "stream",
     "text": [
      "[1 2 3 4 5]\n",
      "[9 8 7 6 5]\n",
      "[11 12 13 14 15]\n"
     ]
    }
   ],
   "source": [
    "var1=np.array([[1,2,3,4,5],[9,8,7,6,5],[11,12,13,14,15]])\n",
    "for i in var1:\n",
    "    print(i)\n"
   ]
  },
  {
   "cell_type": "code",
   "execution_count": 57,
   "id": "ba46e461-882b-4b76-84b7-0d49150bfc09",
   "metadata": {},
   "outputs": [
    {
     "name": "stdout",
     "output_type": "stream",
     "text": [
      "[9 5 8 7 6]\n",
      "[9 5 8 7 6]\n"
     ]
    }
   ],
   "source": [
    "#copy vs view-->\n",
    "import numpy as np\n",
    "var=np.array([9,5,8,7,6])\n",
    "co=var.copy()\n",
    "print(var)\n",
    "print(co)"
   ]
  },
  {
   "cell_type": "code",
   "execution_count": 65,
   "id": "f77e214d-cd96-437d-8ba0-e08583b5acb2",
   "metadata": {},
   "outputs": [
    {
     "name": "stdout",
     "output_type": "stream",
     "text": [
      "[9 5 8 7 6]\n",
      "[9 5 8 7 6]\n"
     ]
    }
   ],
   "source": [
    "import numpy as np\n",
    "var=np.array([9,5,8,7,6])\n",
    "vi=var.view()\n",
    "print(var)\n",
    "print(vi)"
   ]
  },
  {
   "cell_type": "code",
   "execution_count": null,
   "id": "179af6dc-939b-41ad-9edc-75fe1f7c859a",
   "metadata": {},
   "outputs": [],
   "source": [
    "'''\n",
    "Copy---->\n",
    "- The copy owns the data\n",
    "- The copy of an arrray is a new array\n",
    "- The changes made in the copy data does not reflect in the original array\n",
    "\n",
    "View---->\n",
    "- The view does not own the data\n",
    "- A view of the original array\n",
    "- any changes made to the view will affec the original array\n",
    "'''"
   ]
  },
  {
   "cell_type": "code",
   "execution_count": 67,
   "id": "4fecea8a-04f0-4316-b108-ced6d9c82751",
   "metadata": {},
   "outputs": [
    {
     "name": "stdout",
     "output_type": "stream",
     "text": [
      "[ 9 40  8  7  6]\n",
      "[9 5 8 7 6]\n"
     ]
    }
   ],
   "source": [
    "import numpy as np\n",
    "var=np.array([9,5,8,7,6])\n",
    "co=var.copy()\n",
    "var[1]=40\n",
    "print(var)\n",
    "print(co)"
   ]
  },
  {
   "cell_type": "code",
   "execution_count": 69,
   "id": "0c4a30aa-84ea-42bb-a7cc-c61fe7f59818",
   "metadata": {},
   "outputs": [
    {
     "name": "stdout",
     "output_type": "stream",
     "text": [
      "[ 9 40  8  7  6]\n",
      "[ 9 40  8  7  6]\n"
     ]
    }
   ],
   "source": [
    "import numpy as np\n",
    "var=np.array([9,5,8,7,6])\n",
    "vi=var.view()\n",
    "var[1]=40\n",
    "print(var)\n",
    "print(vi)"
   ]
  },
  {
   "cell_type": "code",
   "execution_count": 75,
   "id": "e67ef129-c21f-427c-8e71-3ef3defed599",
   "metadata": {},
   "outputs": [
    {
     "name": "stdout",
     "output_type": "stream",
     "text": [
      "[9 5 8 7 6 1 2 3 4 5]\n"
     ]
    }
   ],
   "source": [
    "# Joint--->\n",
    "# join Array: joining means putting content of two or more arrays in a single array\n",
    "import numpy as np\n",
    "var1=np.array([9,5,8,7,6])\n",
    "var2=np.array([1,2,3,4,5])\n",
    "ar=np.concatenate((var1,var2))\n",
    "print(ar)"
   ]
  },
  {
   "cell_type": "code",
   "execution_count": 77,
   "id": "e1dc1183-dcac-4a76-958f-4e0847750d55",
   "metadata": {},
   "outputs": [
    {
     "name": "stdout",
     "output_type": "stream",
     "text": [
      "[9 5 8 7 6]\n",
      "[array([9, 5]), array([8, 7]), array([6])]\n"
     ]
    }
   ],
   "source": [
    "#split Array- splitting breaks onw array into multiple\n",
    "import numpy as np\n",
    "var1=np.array([9,5,8,7,6])\n",
    "print(var1)\n",
    "ar=np.array_split(var1,3)\n",
    "print(ar)"
   ]
  },
  {
   "cell_type": "code",
   "execution_count": 81,
   "id": "7b6c05eb-5219-448b-a032-c7cc3acd1864",
   "metadata": {},
   "outputs": [
    {
     "name": "stdout",
     "output_type": "stream",
     "text": [
      "(array([2, 5], dtype=int64),)\n"
     ]
    }
   ],
   "source": [
    "#Search Array - search array for an certain value, and return the indexes tha get a match\n",
    "import numpy as np\n",
    "var=np.array([9,5,8,7,6,8])\n",
    "x=np.where(var==8)\n",
    "print(x)"
   ]
  },
  {
   "cell_type": "code",
   "execution_count": 87,
   "id": "cdb9f83d-d51b-4bcc-be5a-8c0ed02af6a8",
   "metadata": {},
   "outputs": [
    {
     "name": "stdout",
     "output_type": "stream",
     "text": [
      "(array([2, 4, 5], dtype=int64),)\n"
     ]
    }
   ],
   "source": [
    "import numpy as np\n",
    "var=np.array([9,5,8,7,6,8])\n",
    "x=np.where(var%2==0)\n",
    "print(x)"
   ]
  },
  {
   "cell_type": "code",
   "execution_count": 89,
   "id": "8b3cbbc9-db7d-4731-9f82-f4f12d2083ef",
   "metadata": {},
   "outputs": [
    {
     "name": "stdout",
     "output_type": "stream",
     "text": [
      "[5 6 7 8 8 9]\n"
     ]
    }
   ],
   "source": [
    "import numpy as np\n",
    "var=np.array([9,5,8,7,6,8])\n",
    "x=np.sort(var)\n",
    "print(x)"
   ]
  },
  {
   "cell_type": "code",
   "execution_count": 91,
   "id": "bd1251f2-f2a2-4f5c-b494-2bc73d0242b9",
   "metadata": {},
   "outputs": [
    {
     "name": "stdout",
     "output_type": "stream",
     "text": [
      "[9 8]\n"
     ]
    }
   ],
   "source": [
    "#filter Array--->\n",
    "var=np.array([9,5,2,8])\n",
    "f=[True,False,False,True]\n",
    "new=var[f]\n",
    "print(new)"
   ]
  },
  {
   "cell_type": "code",
   "execution_count": null,
   "id": "81316ccf-5117-4cbd-ba86-b2ba0e46468e",
   "metadata": {},
   "outputs": [],
   "source": [
    "#Arithmetic functions: Shuffle, Unique. Resize, Flatten, Ravel"
   ]
  },
  {
   "cell_type": "code",
   "execution_count": 97,
   "id": "6999d61e-75e5-4463-8c1c-bea631c85e11",
   "metadata": {},
   "outputs": [
    {
     "name": "stdout",
     "output_type": "stream",
     "text": [
      "[ 6 10  8  2  9  7  1  4  3  5]\n"
     ]
    }
   ],
   "source": [
    "#Shuffle\n",
    "import numpy as np\n",
    "var=np.array([1,2,3,4,5,6,7,8,9,10])\n",
    "np.random.shuffle(var)\n",
    "print(var)"
   ]
  },
  {
   "cell_type": "code",
   "execution_count": 107,
   "id": "e5568bb7-6cfa-499d-a4bf-05cb78e76956",
   "metadata": {},
   "outputs": [
    {
     "name": "stdout",
     "output_type": "stream",
     "text": [
      "(array([ 1,  2,  3,  4,  5,  6,  7,  8,  9, 10]), array([0, 1, 2, 3, 4, 5, 6, 7, 8, 9], dtype=int64), array([2, 1, 1, 1, 1, 2, 2, 2, 1, 1], dtype=int64))\n"
     ]
    }
   ],
   "source": [
    "#unique\n",
    "import numpy as np\n",
    "var=np.array([1,2,3,4,5,6,7,8,9,10,1,6,8,7])\n",
    "x=np.unique(var, return_index=True, return_counts=True)\n",
    "\n",
    "print(x)"
   ]
  },
  {
   "cell_type": "code",
   "execution_count": 113,
   "id": "3c974e13-033e-4528-ab4f-60e7917a6353",
   "metadata": {},
   "outputs": [
    {
     "name": "stdout",
     "output_type": "stream",
     "text": [
      "[[1 2]\n",
      " [3 4]\n",
      " [5 6]]\n"
     ]
    }
   ],
   "source": [
    "#resize\n",
    "import numpy as np\n",
    "var=np.array([1,2,3,4,5,6])\n",
    "x=np.resize(var,(3,2))\n",
    "print(x)"
   ]
  },
  {
   "cell_type": "code",
   "execution_count": 129,
   "id": "0bfac6e1-4e80-4b6e-945a-dcd3777fb815",
   "metadata": {},
   "outputs": [
    {
     "name": "stdout",
     "output_type": "stream",
     "text": [
      "[[1 2]\n",
      " [3 4]\n",
      " [5 6]]\n",
      "[1 2 3 4 5 6]\n",
      "[1 2 3 4 5 6]\n"
     ]
    }
   ],
   "source": [
    "#flatten and ravel????\n",
    "import numpy as np\n",
    "var=np.array([1,2,3,4,5,6])\n",
    "x=np.resize(var,(3,2))\n",
    "print(x)\n",
    "print(x.flatten(order=\"C\"))\n",
    "print(np.ravel(x,order=\"C\"))"
   ]
  },
  {
   "cell_type": "code",
   "execution_count": null,
   "id": "7567d1ba-021c-4c33-8309-ce442ef36df7",
   "metadata": {},
   "outputs": [],
   "source": [
    "#Insert and delete---->"
   ]
  },
  {
   "cell_type": "code",
   "execution_count": 135,
   "id": "574f8e79-2590-4b59-a89d-02101cd4ba99",
   "metadata": {},
   "outputs": [
    {
     "name": "stdout",
     "output_type": "stream",
     "text": [
      "[1 2 3 4 5 6]\n",
      "[ 1  2 40  3  4  5  6]\n"
     ]
    }
   ],
   "source": [
    "#Insert\n",
    "import numpy as np\n",
    "var=np.array([1,2,3,4,5,6])\n",
    "print(var)\n",
    "n=np.insert(var, 2, 40) #(name, position, number to add)\n",
    "print(n)"
   ]
  },
  {
   "cell_type": "code",
   "execution_count": 137,
   "id": "e7659687-c051-4dd9-ac76-2a1484e1b203",
   "metadata": {},
   "outputs": [
    {
     "name": "stdout",
     "output_type": "stream",
     "text": [
      "[[1 2 3]\n",
      " [4 5 6]]\n",
      "[[ 1  2 22  3]\n",
      " [ 4  5 23  6]]\n"
     ]
    }
   ],
   "source": [
    "import numpy as np\n",
    "var=np.array([[1,2,3],[4,5,6]])\n",
    "print(var)\n",
    "n=np.insert(var, 2, [22,23], axis=1) #(name, position, number to add)\n",
    "print(n)"
   ]
  },
  {
   "cell_type": "code",
   "execution_count": 141,
   "id": "8cf9ee57-67ee-45a4-b9b1-5217e0c5ac1a",
   "metadata": {},
   "outputs": [
    {
     "name": "stdout",
     "output_type": "stream",
     "text": [
      "[[1 2 3]\n",
      " [4 5 6]]\n",
      "[[ 1  2  3]\n",
      " [ 4  5  6]\n",
      " [22 23 24]]\n"
     ]
    }
   ],
   "source": [
    "import numpy as np\n",
    "var=np.array([[1,2,3],[4,5,6]])\n",
    "print(var)\n",
    "n=np.insert(var, 2, [22,23,24], axis=0) #(name, position, number to add)\n",
    "print(n)"
   ]
  },
  {
   "cell_type": "code",
   "execution_count": 143,
   "id": "b37f0eee-3bba-47b8-868b-bd9b67722a05",
   "metadata": {},
   "outputs": [
    {
     "name": "stdout",
     "output_type": "stream",
     "text": [
      "[1 2 3 4 5 6]\n",
      "[1.  2.  3.  4.  5.  6.  6.5]\n"
     ]
    }
   ],
   "source": [
    "#append\n",
    "import numpy as np\n",
    "var=np.array([1,2,3,4,5,6])\n",
    "print(var)\n",
    "n=np.append(var, 6.5) #(name, position, number to add)\n",
    "print(n)"
   ]
  },
  {
   "cell_type": "code",
   "execution_count": 145,
   "id": "99605226-e31d-4748-893e-e1fbda313426",
   "metadata": {},
   "outputs": [
    {
     "name": "stdout",
     "output_type": "stream",
     "text": [
      "[[1 2 3]\n",
      " [4 5 6]]\n",
      "[[ 1  2  3]\n",
      " [ 4  5  6]\n",
      " [45 44 23]]\n"
     ]
    }
   ],
   "source": [
    "import numpy as np\n",
    "var=np.array([[1,2,3],[4,5,6]])\n",
    "print(var)\n",
    "n=np.append(var, [[45,44,23]], axis=0) #(name, position, number to add)\n",
    "print(n)"
   ]
  },
  {
   "cell_type": "code",
   "execution_count": 157,
   "id": "7eb42cac-05e7-4582-b155-ed21fb5eafc0",
   "metadata": {},
   "outputs": [
    {
     "name": "stdout",
     "output_type": "stream",
     "text": [
      "[1 2 3 4 5 6]\n",
      "[1 2 4 5 6]\n"
     ]
    }
   ],
   "source": [
    "#Delete\n",
    "import numpy as np\n",
    "var=np.array([1,2,3,4,5,6])\n",
    "print(var)\n",
    "n=np.delete(var,2) \n",
    "print(n)"
   ]
  },
  {
   "cell_type": "code",
   "execution_count": 163,
   "id": "88be8189-3f87-4454-b438-23bee943bb8b",
   "metadata": {},
   "outputs": [
    {
     "name": "stdout",
     "output_type": "stream",
     "text": [
      "[[1 2 3]\n",
      " [4 5 6]]\n",
      "<class 'numpy.matrix'>\n"
     ]
    }
   ],
   "source": [
    "#Martix---->\n",
    "import numpy as np\n",
    "var = np.matrix([[1,2,3],[4,5,6]])\n",
    "print(var)\n",
    "print(type(var))"
   ]
  },
  {
   "cell_type": "code",
   "execution_count": 165,
   "id": "fab17bd8-23ac-47d5-af1d-c9598c64de1c",
   "metadata": {},
   "outputs": [
    {
     "name": "stdout",
     "output_type": "stream",
     "text": [
      "[[1 2 3]\n",
      " [4 5 6]]\n",
      "<class 'numpy.ndarray'>\n"
     ]
    }
   ],
   "source": [
    "import numpy as np\n",
    "var = np.array([[1,2,3],[4,5,6]])\n",
    "print(var)\n",
    "print(type(var))"
   ]
  },
  {
   "cell_type": "code",
   "execution_count": 173,
   "id": "2268e3fe-ce30-4d8d-b77e-c5a98e871ad5",
   "metadata": {},
   "outputs": [
    {
     "name": "stdout",
     "output_type": "stream",
     "text": [
      "Add:  [[ 8 10 12]\n",
      " [14 16 18]]\n",
      "Sub:  [[-6 -6 -6]\n",
      " [-6 -6 -6]]\n",
      "Mul:  [[ 7 16 27]\n",
      " [40 55 72]]\n"
     ]
    }
   ],
   "source": [
    "import numpy as np\n",
    "var1 = np.array([[1,2,3],[4,5,6]])\n",
    "var2 = np.array([[7,8,9],[10,11,12]])\n",
    "print(\"Add: \",var1+var2)\n",
    "print(\"Sub: \",var1-var2)\n",
    "print(\"Mul: \",var1*var2)\n"
   ]
  },
  {
   "cell_type": "code",
   "execution_count": null,
   "id": "9572a335-33ce-47ae-ba3f-3aa94fab4d23",
   "metadata": {},
   "outputs": [],
   "source": [
    "# Matrix Functions: transpose, Swapaxes, Inverse, Power, Determinate"
   ]
  },
  {
   "cell_type": "code",
   "execution_count": 177,
   "id": "31740638-d054-4cce-86b0-22eae869fd03",
   "metadata": {},
   "outputs": [
    {
     "name": "stdout",
     "output_type": "stream",
     "text": [
      "[[1 2 3]\n",
      " [4 5 6]]\n",
      "[[1 4]\n",
      " [2 5]\n",
      " [3 6]]\n"
     ]
    }
   ],
   "source": [
    "#Tranpose\n",
    "import numpy as np\n",
    "var = np.array([[1,2,3],[4,5,6]])\n",
    "print(var)\n",
    "print(np.transpose(var))"
   ]
  },
  {
   "cell_type": "code",
   "execution_count": 181,
   "id": "1fcc7e58-7b5e-4844-bacd-3642a28b4269",
   "metadata": {},
   "outputs": [
    {
     "name": "stdout",
     "output_type": "stream",
     "text": [
      "[[1 2 3]\n",
      " [4 5 6]]\n",
      "[[1 4]\n",
      " [2 5]\n",
      " [3 6]]\n"
     ]
    }
   ],
   "source": [
    "#Swapaxes\n",
    "import numpy as np\n",
    "var = np.array([[1,2,3],[4,5,6]])\n",
    "print(var)\n",
    "print(np.swapaxes(var,0,1))"
   ]
  },
  {
   "cell_type": "code",
   "execution_count": 187,
   "id": "ae443623-c7e7-488d-98b3-185395e7230c",
   "metadata": {},
   "outputs": [
    {
     "name": "stdout",
     "output_type": "stream",
     "text": [
      "[[1 2]\n",
      " [4 5]]\n",
      "[[-1.66666667  0.66666667]\n",
      " [ 1.33333333 -0.33333333]]\n"
     ]
    }
   ],
   "source": [
    "#inverse\n",
    "import numpy as np\n",
    "var = np.array([[1,2],[4,5]])\n",
    "print(var)\n",
    "print(np.linalg.inv(var))"
   ]
  },
  {
   "cell_type": "code",
   "execution_count": 191,
   "id": "3add84db-3b50-4f3e-9b81-84ee24309740",
   "metadata": {},
   "outputs": [
    {
     "name": "stdout",
     "output_type": "stream",
     "text": [
      "[[1 2]\n",
      " [4 5]]\n",
      "[[ 9 12]\n",
      " [24 33]]\n",
      "[[1 0]\n",
      " [0 1]]\n"
     ]
    }
   ],
   "source": [
    "#power\n",
    "import numpy as np\n",
    "var = np.array([[1,2],[4,5]])\n",
    "print(var)\n",
    "print(np.linalg.matrix_power(var,2))\n",
    "print(np.linalg.matrix_power(var,0))"
   ]
  },
  {
   "cell_type": "code",
   "execution_count": 193,
   "id": "6a32069d-ab6c-4f87-a077-1580c01881ba",
   "metadata": {},
   "outputs": [
    {
     "name": "stdout",
     "output_type": "stream",
     "text": [
      "[[1 2]\n",
      " [4 5]]\n",
      "-2.9999999999999996\n"
     ]
    }
   ],
   "source": [
    "#determinant\n",
    "import numpy as np\n",
    "var = np.array([[1,2],[4,5]])\n",
    "print(var)\n",
    "print(np.linalg.det(var))"
   ]
  },
  {
   "cell_type": "code",
   "execution_count": null,
   "id": "c2bb5e67-37af-4ecf-a02f-096f4713b414",
   "metadata": {},
   "outputs": [],
   "source": []
  }
 ],
 "metadata": {
  "kernelspec": {
   "display_name": "Python 3 (ipykernel)",
   "language": "python",
   "name": "python3"
  },
  "language_info": {
   "codemirror_mode": {
    "name": "ipython",
    "version": 3
   },
   "file_extension": ".py",
   "mimetype": "text/x-python",
   "name": "python",
   "nbconvert_exporter": "python",
   "pygments_lexer": "ipython3",
   "version": "3.12.4"
  }
 },
 "nbformat": 4,
 "nbformat_minor": 5
}
